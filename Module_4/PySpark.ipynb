{
 "cells": [
  {
   "cell_type": "markdown",
   "id": "420da376-62fa-481f-9152-77ad32e5a069",
   "metadata": {},
   "source": [
    "Since setting up PySpark can be challenging due to the required dependencies, this hands-on uses a Docker container with a pre-built PySpark single-node setup. To start the Docker container, run the command\n",
    "\n",
    "$ docker run -p 8888:8888 jupyter/pyspark-notebook"
   ]
  },
  {
   "cell_type": "code",
   "execution_count": 1,
   "id": "a1a2a756-3b3d-4a6a-b844-d5f4067e9a53",
   "metadata": {},
   "outputs": [],
   "source": [
    "import pyspark"
   ]
  },
  {
   "cell_type": "code",
   "execution_count": 2,
   "id": "04b6eea5-b285-4f5c-abe4-b17accbf7ba0",
   "metadata": {},
   "outputs": [],
   "source": [
    "# Connect to a Spark cluster and create RDDs\n",
    "# local[*] means we're using the local cluster (a single-machine mode)\n",
    "# * tells Spark to create as many worker threads (nodes) as logical cores on the machine\n",
    "sc = pyspark.SparkContext(master='local[*]')"
   ]
  },
  {
   "cell_type": "code",
   "execution_count": 4,
   "id": "fb368e98-e3b7-4ae3-8364-f083a300f75e",
   "metadata": {},
   "outputs": [
    {
     "name": "stdout",
     "output_type": "stream",
     "text": [
      "319\n"
     ]
    }
   ],
   "source": [
    "# Create a RDD\n",
    "txt = sc.textFile('file:////usr/share/doc/python3/copyright')\n",
    "print(txt.count()) # count() pulls the entire dataset into memory"
   ]
  },
  {
   "cell_type": "code",
   "execution_count": 5,
   "id": "bb200da7-1108-4edd-937e-3d99616a4914",
   "metadata": {},
   "outputs": [
    {
     "name": "stdout",
     "output_type": "stream",
     "text": [
      "52\n"
     ]
    }
   ],
   "source": [
    "python_lines = txt.filter(lambda line: 'python' in line.lower())\n",
    "print(python_lines.count())"
   ]
  },
  {
   "cell_type": "code",
   "execution_count": 7,
   "id": "be4c6dd1-60f9-4eff-a3f7-e1fe635562bc",
   "metadata": {},
   "outputs": [
    {
     "name": "stdout",
     "output_type": "stream",
     "text": [
      "[1, 3, 5, 7, 9]\n"
     ]
    }
   ],
   "source": [
    "# Create RDDs\n",
    "big_list = range(10000)\n",
    "\n",
    "# transform a Python data structure into RDDs\n",
    "rdd = sc.parallelize(big_list, 2) # distribute into 2 partitions\n",
    "\n",
    "odds = rdd.filter(lambda x: x % 2 != 0)\n",
    "\n",
    "# Takes a small subset of the RDD\n",
    "# important for debugging\n",
    "print(odds.take(5)) "
   ]
  },
  {
   "cell_type": "code",
   "execution_count": null,
   "id": "e5ea25d5-00e9-4c05-a483-d979266cb5df",
   "metadata": {},
   "outputs": [],
   "source": []
  }
 ],
 "metadata": {
  "kernelspec": {
   "display_name": "Python 3 (ipykernel)",
   "language": "python",
   "name": "python3"
  },
  "language_info": {
   "codemirror_mode": {
    "name": "ipython",
    "version": 3
   },
   "file_extension": ".py",
   "mimetype": "text/x-python",
   "name": "python",
   "nbconvert_exporter": "python",
   "pygments_lexer": "ipython3",
   "version": "3.11.6"
  }
 },
 "nbformat": 4,
 "nbformat_minor": 5
}
